{
 "cells": [
  {
   "cell_type": "code",
   "execution_count": 36,
   "metadata": {},
   "outputs": [],
   "source": [
    "import pandas as pd\n",
    "import numpy as np\n",
    "from matplotlib import pyplot as plt \n",
    "from scipy import stats\n"
   ]
  },
  {
   "cell_type": "markdown",
   "metadata": {},
   "source": [
    "**Problem 1**"
   ]
  },
  {
   "cell_type": "markdown",
   "metadata": {},
   "source": [
    "Suppose you want to test whether or not boys like the T.V. show Jersey Shore better than girls. You ask 10 boys and 10 girls to rate the T.V. show on a scale from 1 to 7, where 7 is highly enjoyable and 1 is not enjoyable.\n",
    "\n",
    "For the boys, you observe the values:\n",
    "5\t7\t6\t3\t1\t1\t2\t4\t5\t6\n",
    "\n",
    "For the girls, you observe the values:\n",
    "1\t3\t7\t7\t6\t4\t3\t5\t7\t4\n"
   ]
  },
  {
   "cell_type": "code",
   "execution_count": 30,
   "metadata": {},
   "outputs": [],
   "source": [
    "boys = np.array([5,7,6,3,1,1,2,4,5,6])\n",
    "girls = np.array([1,3,7,7,6,4,3,5,7,4])"
   ]
  },
  {
   "cell_type": "markdown",
   "metadata": {},
   "source": [
    "**1.1) Are the groups independent?** \n",
    "\n",
    "I’m going to say they’re independent, but I’m a little torn. If I knew that boys really liked a show, I would probably say girls would really like it too, because after all the ability to enjoy and critique art isn’t solely restricted to one gender. However, since I can see that problem 3 is going to be the problem on dependent groups, I’m going to say these groups are independent.\n"
   ]
  },
  {
   "cell_type": "markdown",
   "metadata": {},
   "source": [
    "**1.2) Examine the means and SDs for each of the groups** \n"
   ]
  },
  {
   "cell_type": "code",
   "execution_count": 66,
   "metadata": {},
   "outputs": [
    {
     "name": "stdout",
     "output_type": "stream",
     "text": [
      "boys\n",
      "mean : 4.0\n",
      "sd : 2.160246899469287\n",
      "girls\n",
      "mean : 4.7\n",
      "sd : 2.057506581601462\n"
     ]
    }
   ],
   "source": [
    "def findmeansd(x,name):\n",
    "    print(name)\n",
    "    print(f'mean : {np.mean(x)}')\n",
    "    print(f'sd : {np.std(x,ddof = 1)}')\n",
    "\n",
    "findmeansd(boys,'boys')\n",
    "findmeansd(girls,'girls')\n"
   ]
  },
  {
   "cell_type": "markdown",
   "metadata": {},
   "source": [
    "**1.3) Look at a histogram for both groups**\n"
   ]
  },
  {
   "cell_type": "code",
   "execution_count": 33,
   "metadata": {},
   "outputs": [
    {
     "data": {
      "text/plain": [
       "(array([2., 1., 1., 1., 2., 3.]),\n",
       " array([1, 2, 3, 4, 5, 6, 7]),\n",
       " <BarContainer object of 6 artists>)"
      ]
     },
     "execution_count": 33,
     "metadata": {},
     "output_type": "execute_result"
    },
    {
     "data": {
      "image/png": "[encoded data removed]",
      "text/plain": [
       "<Figure size 432x288 with 1 Axes>"
      ]
     },
     "metadata": {
      "needs_background": "light"
     },
     "output_type": "display_data"
    }
   ],
   "source": [
    "plt.hist(boys,bins = [1,2,3,4,5,6,7])\n",
    "\n"
   ]
  },
  {
   "cell_type": "code",
   "execution_count": 34,
   "metadata": {},
   "outputs": [
    {
     "data": {
      "text/plain": [
       "(array([1., 0., 2., 2., 1., 4.]),\n",
       " array([1, 2, 3, 4, 5, 6, 7]),\n",
       " <BarContainer object of 6 artists>)"
      ]
     },
     "execution_count": 34,
     "metadata": {},
     "output_type": "execute_result"
    },
    {
     "data": {
      "image/png": "[encoded data removed]",
      "text/plain": [
       "<Figure size 432x288 with 1 Axes>"
      ]
     },
     "metadata": {
      "needs_background": "light"
     },
     "output_type": "display_data"
    }
   ],
   "source": [
    "plt.hist(girls,bins = [1,2,3,4,5,6,7])"
   ]
  },
  {
   "cell_type": "markdown",
   "metadata": {},
   "source": [
    "**1.4) Use the appropriate t-test to test the null hypothesis that mean score for boys=girls** \n",
    "\n",
    "Null: mean score for boys = girls\n",
    "\n",
    "Alt: mean score for boys =! Girls\n",
    "\n",
    "Since the groups are independent and the variances are about equal, I will be using Student’s t test\n"
   ]
  },
  {
   "cell_type": "code",
   "execution_count": 39,
   "metadata": {},
   "outputs": [
    {
     "data": {
      "text/plain": [
       "Ttest_indResult(statistic=-0.7419985160044522, pvalue=0.4676830368619671)"
      ]
     },
     "execution_count": 39,
     "metadata": {},
     "output_type": "execute_result"
    }
   ],
   "source": [
    "stats.ttest_ind(boys, girls, equal_var = True)"
   ]
  },
  {
   "cell_type": "markdown",
   "metadata": {},
   "source": [
    "This returns a p value of 0.467, which is higher than my alpha of 0.05."
   ]
  },
  {
   "cell_type": "markdown",
   "metadata": {},
   "source": [
    "**1.5) Do you reject or fail to reject the null?** \n",
    "\n",
    "Since my p is 0.46, which is higher than alpha, I fail to reject my null hypothesis!"
   ]
  },
  {
   "cell_type": "markdown",
   "metadata": {},
   "source": [
    "**Problem 2**"
   ]
  },
  {
   "cell_type": "markdown",
   "metadata": {},
   "source": [
    "Suppose you want to test the effectiveness of a new drug, Cholmed, that helps treat high cholesterol in adults. In your study, you have 16 people who have been diagnosed with high cholesterol. To 8 of them, you give regular doses of Cholmed over one month. To the other 8 participants, you give regular doses of a placebo over one month. Then, you calculate the difference in the cholesterol levels for each participant.\n",
    "\n",
    "For the Cholmed group, you observe the values (in mg/dl):\n",
    "-33\t-15\t  1\t -75  -23   -3\t-60\t-57\n",
    "\n",
    "For the placebo group, you observe the values:\n",
    "-17\t 4\t 15\t -8\t -30   -7   -2\t 4"
   ]
  },
  {
   "cell_type": "code",
   "execution_count": 41,
   "metadata": {},
   "outputs": [],
   "source": [
    "cholmed = np.array([-33,-15,1,-75,-23,-3,-60,-57])\n",
    "placebo = np.array([-17,4,15,-8,-30,-7,-2,4])"
   ]
  },
  {
   "cell_type": "markdown",
   "metadata": {},
   "source": [
    "**2.1) Are the groups independent?** \n",
    "\n",
    "They are independent!"
   ]
  },
  {
   "cell_type": "markdown",
   "metadata": {},
   "source": [
    "**2.2) Examine the means and SDs for each of the groups** "
   ]
  },
  {
   "cell_type": "code",
   "execution_count": 69,
   "metadata": {},
   "outputs": [
    {
     "name": "stdout",
     "output_type": "stream",
     "text": [
      "cholmed\n",
      "mean : -33.125\n",
      "sd : 28.15486509595506\n",
      "placebo\n",
      "mean : -5.125\n",
      "sd : 13.90208103640808\n"
     ]
    }
   ],
   "source": [
    "findmeansd(cholmed,'cholmed')\n",
    "findmeansd(placebo,'placebo')"
   ]
  },
  {
   "cell_type": "markdown",
   "metadata": {},
   "source": [
    "**2.3) Look at a histogram for both groups**\n"
   ]
  },
  {
   "cell_type": "code",
   "execution_count": 45,
   "metadata": {},
   "outputs": [
    {
     "data": {
      "text/plain": [
       "(array([1., 1., 1., 0., 0., 1., 1., 1., 0., 2.]),\n",
       " array([-75. , -67.4, -59.8, -52.2, -44.6, -37. , -29.4, -21.8, -14.2,\n",
       "         -6.6,   1. ]),\n",
       " <BarContainer object of 10 artists>)"
      ]
     },
     "execution_count": 45,
     "metadata": {},
     "output_type": "execute_result"
    },
    {
     "data": {
      "image/png": "[encoded data removed]",
      "text/plain": [
       "<Figure size 432x288 with 1 Axes>"
      ]
     },
     "metadata": {
      "needs_background": "light"
     },
     "output_type": "display_data"
    }
   ],
   "source": [
    "plt.hist(cholmed)"
   ]
  },
  {
   "cell_type": "code",
   "execution_count": 47,
   "metadata": {},
   "outputs": [
    {
     "data": {
      "text/plain": [
       "(array([1., 0., 1., 0., 1., 1., 1., 2., 0., 1.]),\n",
       " array([-30. , -25.5, -21. , -16.5, -12. ,  -7.5,  -3. ,   1.5,   6. ,\n",
       "         10.5,  15. ]),\n",
       " <BarContainer object of 10 artists>)"
      ]
     },
     "execution_count": 47,
     "metadata": {},
     "output_type": "execute_result"
    },
    {
     "data": {
      "image/png": "[encoded data removed]",
      "text/plain": [
       "<Figure size 432x288 with 1 Axes>"
      ]
     },
     "metadata": {
      "needs_background": "light"
     },
     "output_type": "display_data"
    }
   ],
   "source": [
    "plt.hist(placebo)"
   ]
  },
  {
   "cell_type": "markdown",
   "metadata": {},
   "source": [
    "**2.4) Use the appropriate t-test to test the null hypothesis that mean score for cholmed=placebo** \n",
    "\n",
    "I will be using Welch’s t-test since the variances are not equal!\n"
   ]
  },
  {
   "cell_type": "code",
   "execution_count": 48,
   "metadata": {},
   "outputs": [
    {
     "data": {
      "text/plain": [
       "Ttest_indResult(statistic=-2.5221588334786924, pvalue=0.029816359372460285)"
      ]
     },
     "execution_count": 48,
     "metadata": {},
     "output_type": "execute_result"
    }
   ],
   "source": [
    "stats.ttest_ind(cholmed, placebo, equal_var = False)"
   ]
  },
  {
   "cell_type": "markdown",
   "metadata": {},
   "source": [
    "2.5) Do you reject or fail to reject the null? \n",
    "Since the p-value returned by Welch’s test is less than alpha = 0.05, I must reject the null hypothesis that the true means for cholmed and placebo are equal.\n",
    "\n"
   ]
  },
  {
   "cell_type": "markdown",
   "metadata": {},
   "source": [
    "**Problem 3**"
   ]
  },
  {
   "cell_type": "markdown",
   "metadata": {},
   "source": [
    "You are curious about whether or not eating too much of a good thing will decrease a person’s preference for that type of food. You ask 12 people how much they like pizza on a scale from 1 to 7, where 7 is highly enjoyable and 1 is not enjoyable. Then, you make them eat a pizza for dinner every day for two weeks. After that, you ask them how much they like pizza.\n",
    "\n",
    "Before the study, you observe the values:\n",
    "7\t7\t3\t1\t6\t5\t4\t3\t3\t4\t6\t7\n",
    "\n",
    "After the study, you observe the values:\n",
    "2\t1\t4\t4\t1\t1\t2\t1\t6\t4\t5\t4\t"
   ]
  },
  {
   "cell_type": "markdown",
   "metadata": {},
   "source": [
    "**3.1) Are the groups independent? Examine the means and SDs for each of the groups** \n",
    "\n",
    "These groups are dependent.\n"
   ]
  },
  {
   "cell_type": "code",
   "execution_count": 49,
   "metadata": {},
   "outputs": [],
   "source": [
    "before = np.array([7,7,3,1,6,5,4,3,3,4,6,7])\n",
    "after = np.array([2,1,4,4,1,1,2,1,6,4,5,4])\n"
   ]
  },
  {
   "cell_type": "code",
   "execution_count": 70,
   "metadata": {},
   "outputs": [
    {
     "name": "stdout",
     "output_type": "stream",
     "text": [
      "before\n",
      "mean : 4.666666666666667\n",
      "sd : 1.9694638556693236\n",
      "after\n",
      "mean : 2.9166666666666665\n",
      "sd : 1.781640374554423\n"
     ]
    }
   ],
   "source": [
    "findmeansd(before,'before')\n",
    "findmeansd(after,'after')"
   ]
  },
  {
   "cell_type": "markdown",
   "metadata": {},
   "source": [
    "**3.2) Use the appropriate t-test to test the null hypothesis that mean score for before=after. Do you reject or fail to reject the null?**\n",
    "\n",
    "Since these groups are independent, I will be using the paired t test.\n"
   ]
  },
  {
   "cell_type": "code",
   "execution_count": 72,
   "metadata": {},
   "outputs": [
    {
     "data": {
      "text/plain": [
       "Ttest_relResult(statistic=1.9883523913717707, pvalue=0.07223014677153633)"
      ]
     },
     "execution_count": 72,
     "metadata": {},
     "output_type": "execute_result"
    }
   ],
   "source": [
    "stats.ttest_rel(before, after)\n"
   ]
  },
  {
   "cell_type": "markdown",
   "metadata": {},
   "source": [
    "Since p = 0.07, which is greater than alpha = 0.05, I fail to reject the null hypothesis!!"
   ]
  },
  {
   "cell_type": "code",
   "execution_count": null,
   "metadata": {},
   "outputs": [],
   "source": []
  }
 ],
 "metadata": {
  "kernelspec": {
   "display_name": "Python 3",
   "language": "python",
   "name": "python3"
  },
  "language_info": {
   "codemirror_mode": {
    "name": "ipython",
    "version": 3
   },
   "file_extension": ".py",
   "mimetype": "text/x-python",
   "name": "python",
   "nbconvert_exporter": "python",
   "pygments_lexer": "ipython3",
   "version": "3.8.5"
  }
 },
 "nbformat": 4,
 "nbformat_minor": 4
}
